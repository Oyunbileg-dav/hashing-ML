{
 "cells": [
  {
   "cell_type": "code",
   "execution_count": 1,
   "metadata": {},
   "outputs": [],
   "source": [
    "import scipy.io\n",
    "import os\n",
    "import requests\n",
    "import numpy as np\n",
    "import time\n",
    "\n",
    "# load the dataset from the online source\n",
    "url='https://www.dropbox.com/s/875u1rkva9iffpj/Gist512CIFAR10.mat?dl=1'\n",
    "response = requests.get(url)\n",
    "with open(os.path.join(\"./\", \"Gist512CIFAR10.mat\"), 'wb') as f:\n",
    "    f.write(response.content)\n",
    "\n",
    "mat = scipy.io.loadmat('./Gist512CIFAR10.mat')\n",
    "\n",
    "from sklearn.preprocessing import Normalizer\n",
    "data = mat['X']\n",
    "data = Normalizer(norm='l2').fit_transform(data)\n",
    "data= data- data.mean(axis=0)\n",
    "classes = mat['X_class']\n",
    "\n",
    "from sklearn.model_selection import train_test_split\n",
    "\n",
    "np.random.seed(0)\n",
    "X_train, X_test, y_train, y_test = train_test_split(data, classes[0,:], test_size=0.05, random_state=42)\n",
    "data_database, data_train, labels_database, labels_train = train_test_split(X_train, y_train[:], test_size=0.02, random_state=42)"
   ]
  },
  {
   "cell_type": "code",
   "execution_count": 44,
   "metadata": {},
   "outputs": [],
   "source": [
    "# Importing libraries\n",
    "import pandas as pd\n",
    "from scipy.stats import mode\n",
    "\n",
    "# K Nearest Neighbors Classification\n",
    "class K_Nearest_Neighbors_Classifier() :\n",
    "\tdef __init__(self, K) :\n",
    "\t\tself.K = K\n",
    "\t\t\n",
    "\t# Function to store training set\n",
    "\tdef fit(self, X_train, Y_train) :\n",
    "\t\tself.X_train = X_train\n",
    "\t\tself.Y_train = Y_train\n",
    "\t\t# no_of_training_examples, no_of_features\n",
    "\t\tself.m, self.n = X_train.shape\n",
    "\t\n",
    "\t# Function for prediction\n",
    "\tdef predict( self, X_test ) :\n",
    "\t\tself.X_test = X_test\n",
    "\t\t# no_of_test_examples, no_of_features\n",
    "\t\tself.m_test, self.n = X_test.shape\n",
    "\t\t# initialize Y_predict\n",
    "\t\tY_predict = np.zeros( self.m_test )\n",
    "\t\n",
    "\t\tfor i in range( self.m_test ) :\n",
    "\t\t\tx = self.X_test[i]\n",
    "\t\t\t# find the K nearest neighbors from current test example\n",
    "\t\t\tneighbors = np.zeros( self.K )\n",
    "\t\t\tneighbors = self.find_neighbors( x )\n",
    "\t\t\t# most frequent class in K neighbors\n",
    "\t\t\tY_predict[i] = mode( neighbors )[0][0]\t\n",
    "\t\t\t\n",
    "\t\treturn Y_predict\n",
    "\t\n",
    "\t# Function to find the K nearest neighbors to current test example\n",
    "\tdef find_neighbors( self, x ) :\n",
    "\t\t# calculate all the euclidean distances between current\n",
    "\t\t# test example x and training set X_train\n",
    "\t\teuclidean_distances = np.zeros( self.m )\n",
    "\t\tfor i in range( self.m ) :\n",
    "\t\t\td = self.euclidean( x, self.X_train[i] )\n",
    "\t\t\teuclidean_distances[i] = d\n",
    "\t\t# sort Y_train according to euclidean_distance_array and\n",
    "\t\t# store into Y_train_sorted\n",
    "\t\tinds = euclidean_distances.argsort()\n",
    "\t\tY_train_sorted = self.Y_train[inds]\n",
    "\t\treturn Y_train_sorted[:self.K]\n",
    "\t\n",
    "\t# Function to calculate euclidean distance\n",
    "\tdef euclidean( self, x, x_train ) :\n",
    "\t\treturn np.sqrt( np.sum( np.square( x - x_train ) ) )\n",
    "\n",
    "# Driver code\n",
    "def knn(K):\n",
    "\t# Model training\n",
    "\tmodel = K_Nearest_Neighbors_Classifier(K)\n",
    "\tmodel.fit(X_train, y_train)\n",
    "\t# Prediction on test set\n",
    "\ty_pred = model.predict(X_test)\n",
    "\t# measure performance\n",
    "\tcorrectly_classified = 0\n",
    "\t# counter\n",
    "\tcount = 0\n",
    "\n",
    "\tfor i in range( np.size( y_pred ) ) :\n",
    "\t\tif y_test[i] == y_pred[i] :\n",
    "\t\t\tcorrectly_classified = correctly_classified + 1\n",
    "\t\tcount = count + 1\n",
    "\t\t\n",
    "\tprint(\"Mean accuracy on test set by the naive knn classifier K={}: \".format(K), (correctly_classified/count))\n",
    "\treturn (correctly_classified/count)"
   ]
  },
  {
   "cell_type": "code",
   "execution_count": 45,
   "metadata": {},
   "outputs": [
    {
     "name": "stdout",
     "output_type": "stream",
     "text": [
      "Mean accuracy on test set by the naive knn classifier K=3:  0.49166666666666664\n"
     ]
    },
    {
     "data": {
      "text/plain": [
       "0.49166666666666664"
      ]
     },
     "execution_count": 45,
     "metadata": {},
     "output_type": "execute_result"
    }
   ],
   "source": [
    "knn(3)"
   ]
  },
  {
   "cell_type": "code",
   "execution_count": 46,
   "metadata": {},
   "outputs": [],
   "source": [
    "from collections import defaultdict\n",
    "from sklearn.svm import SVC\n",
    "from itertools import combinations\n",
    "from sklearn.metrics.pairwise import pairwise_distances\n",
    "\n",
    "def grh(K):\n",
    "\n",
    "    n_vectors = 16\n",
    "    dim = 512\n",
    "\n",
    "    np.random.seed(0)\n",
    "    random_vectors = np.random.randn(dim, n_vectors)\n",
    "\n",
    "    # https://wiki.python.org/moin/BitwiseOperators\n",
    "    # x << y is the same as multiplying x by 2 ** y\n",
    "    powers_of_two = 1 << np.arange(n_vectors - 1, -1, step=-1)\n",
    "\n",
    "    # we can do it for the entire corpus\n",
    "    bin_indices_bits = data.dot(random_vectors) >= 0\n",
    "    bin_indices = bin_indices_bits.dot(powers_of_two)\n",
    "    bin_indices.shape\n",
    "\n",
    "    table = defaultdict(list)\n",
    "    for idx, bin_index in enumerate(bin_indices):\n",
    "        table[bin_index].append(idx)\n",
    "\n",
    "    svclassifier = SVC(kernel='linear') \n",
    "\n",
    "    adjacency_matrix=np.equal.outer(labels_train, labels_train).astype(float)\n",
    "    row_sums = adjacency_matrix.sum(axis=1)\n",
    "    adjacency_matrix = adjacency_matrix / row_sums[:, np.newaxis]\n",
    "\n",
    "    n_iter=2\n",
    "\n",
    "    for i in range(0,n_iter):\n",
    "\n",
    "        bin_indices_bits = (data_train.dot(random_vectors) >= 0).astype(int)\n",
    "        bin_indices_bits[bin_indices_bits==0]=-1\n",
    "        bin_indices_bits_refined=np.matmul(adjacency_matrix,bin_indices_bits.astype(float))\n",
    "\n",
    "        bin_indices_bits_refined=(bin_indices_bits_refined >=0).astype(int)\n",
    "        bin_indices_bits_refined[bin_indices_bits_refined<=0]=-1\n",
    "\n",
    "        bin_indices_bits = (0.25*bin_indices_bits_refined.astype(float) + 0.75*bin_indices_bits.astype(float))\n",
    "        bin_indices_bits=(bin_indices_bits >=0).astype(int)\n",
    "        bin_indices_bits[bin_indices_bits<=0]=-1\n",
    "\n",
    "        grh_hyperplanes = random_vectors.copy()\n",
    "        for j in range(0,n_vectors):\n",
    "            if abs(sum(bin_indices_bits[:,j]))==data_train.shape[0]:\n",
    "                # In case all bits are the same we generate a new random vector\n",
    "                random_vector = np.random.randn(dim, 1)\n",
    "                grh_hyperplanes[:,j]=random_vector[:,0]\n",
    "            else:\n",
    "                hyperplane=svclassifier.fit(data_train, bin_indices_bits[:,j]).coef_\n",
    "                hyperplane=np.array(hyperplane)\n",
    "                grh_hyperplanes[:,j]=hyperplane\n",
    "\n",
    "        random_vectors = grh_hyperplanes.copy()\n",
    "\n",
    "    # we can do it for the entire corpus\n",
    "    bin_indices_bits = data_database.dot(random_vectors) >= 0\n",
    "    # print(bin_indices_bits.shape)\n",
    "    bin_indices = bin_indices_bits.dot(powers_of_two)\n",
    "    bin_indices.shape\n",
    "\n",
    "\n",
    "    table = defaultdict(list)\n",
    "    for idx, bin_index in enumerate(bin_indices):\n",
    "        table[bin_index].append(idx)\n",
    "\n",
    "    precision_hist = []\n",
    "    search_radius = 2\n",
    "\n",
    "    for query_image, query_label in zip(X_test,y_test):\n",
    "\n",
    "        bin_index_bits = np.ravel(query_image.dot(random_vectors) >= 0)\n",
    "        candidate_set = set()\n",
    "\n",
    "        \n",
    "        n_vectors = bin_index_bits.shape[0]\n",
    "        for different_bits in combinations(range(n_vectors), search_radius):\n",
    "            index = list(different_bits)\n",
    "            alternate_bits = bin_index_bits.copy()\n",
    "            alternate_bits[index] = np.logical_not(alternate_bits[index])\n",
    "            nearby_bin = alternate_bits.dot(powers_of_two)\n",
    "\n",
    "            if nearby_bin in table:\n",
    "                candidate_set.update(table[nearby_bin])\n",
    "\n",
    "        # sort candidates by their true distances from the query\n",
    "        candidate_list = list(candidate_set)\n",
    "\n",
    "        if candidate_list:\n",
    "            candidates = data_database[candidate_list[:]]\n",
    "            ground_truth = labels_database[candidate_list[:]]\n",
    "            distance = pairwise_distances(candidates, query_image.reshape(1,-1), metric='cosine').flatten()\n",
    "            distance_col = 'distance'\n",
    "            nearest_neighbors = pd.DataFrame({'id': candidate_list, 'class': ground_truth, distance_col: distance}).sort_values(distance_col).reset_index(drop=True)\n",
    "            candidate_set_labels = nearest_neighbors.sort_values(by=['distance'], ascending=True)['class'][:K]\n",
    "            precision = list(candidate_set_labels).count(query_label) / K\n",
    "            # precision_history[search_radius].append(precision)\n",
    "            precision_hist.append(precision)\n",
    "\n",
    "    print(\"Mean accuracy on test set by the GRH classifier K={}: \".format(K), np.mean(precision_hist))\n",
    "    return np.mean(precision_hist)\n",
    "\n"
   ]
  },
  {
   "cell_type": "code",
   "execution_count": 47,
   "metadata": {},
   "outputs": [
    {
     "name": "stdout",
     "output_type": "stream",
     "text": [
      "Mean accuracy on test set by the GRH classifier K=3:  0.4194444444444444\n"
     ]
    },
    {
     "data": {
      "text/plain": [
       "0.4194444444444444"
      ]
     },
     "execution_count": 47,
     "metadata": {},
     "output_type": "execute_result"
    }
   ],
   "source": [
    "grh(3)"
   ]
  },
  {
   "cell_type": "code",
   "execution_count": 50,
   "metadata": {},
   "outputs": [
    {
     "name": "stdout",
     "output_type": "stream",
     "text": [
      "Mean accuracy on test set by the naive knn classifier K=1:  0.4666666666666667\n",
      "Mean accuracy on test set by the GRH classifier K=1:  0.43333333333333335\n",
      "Mean accuracy on test set by the naive knn classifier K=2:  0.49166666666666664\n",
      "Mean accuracy on test set by the GRH classifier K=2:  0.44583333333333336\n",
      "Mean accuracy on test set by the naive knn classifier K=3:  0.49166666666666664\n",
      "Mean accuracy on test set by the GRH classifier K=3:  0.4194444444444444\n",
      "Mean accuracy on test set by the naive knn classifier K=4:  0.5166666666666667\n",
      "Mean accuracy on test set by the GRH classifier K=4:  0.3958333333333333\n",
      "Mean accuracy on test set by the naive knn classifier K=5:  0.5166666666666667\n",
      "Mean accuracy on test set by the GRH classifier K=5:  0.37833333333333335\n",
      "Mean accuracy on test set by the naive knn classifier K=6:  0.5583333333333333\n",
      "Mean accuracy on test set by the GRH classifier K=6:  0.3805555555555556\n",
      "Mean accuracy on test set by the naive knn classifier K=7:  0.525\n",
      "Mean accuracy on test set by the GRH classifier K=7:  0.3785714285714285\n",
      "Mean accuracy on test set by the naive knn classifier K=8:  0.55\n",
      "Mean accuracy on test set by the GRH classifier K=8:  0.371875\n",
      "Mean accuracy on test set by the naive knn classifier K=9:  0.5333333333333333\n",
      "Mean accuracy on test set by the GRH classifier K=9:  0.36203703703703705\n",
      "Mean accuracy on test set by the naive knn classifier K=10:  0.5083333333333333\n",
      "Mean accuracy on test set by the GRH classifier K=10:  0.3516666666666666\n"
     ]
    }
   ],
   "source": [
    "knn_accuracy = []\n",
    "knn_time = []\n",
    "grh_accuracy = []\n",
    "grh_time = []\n",
    "for i in range(1,11):\n",
    "    a = time.time()\n",
    "    knn_accuracy.append(knn(i))\n",
    "    b = time.time()\n",
    "    knn_time.append(b-a)\n",
    "    a = time.time()\n",
    "    grh_accuracy.append(grh(i))\n",
    "    b = time.time()\n",
    "    grh_time.append(b-a)"
   ]
  },
  {
   "cell_type": "code",
   "execution_count": 79,
   "metadata": {},
   "outputs": [
    {
     "name": "stdout",
     "output_type": "stream",
     "text": [
      "Average time for classifying 3000 test dataset images by the naive KNN model: 47.1 seconds\n",
      "Average time for classifying 3000 test dataset images by the GRH model: 4.16 seconds\n",
      "Average accuracy for classifying 3000 test dataset images by the naive KNN model: 51.58 percent\n",
      "Average accuracy for classifying 3000 test dataset images by the GRH model: 39.17 percent\n"
     ]
    }
   ],
   "source": [
    "import matplotlib.pyplot as plt\n",
    "print(\"Average time for classifying 3000 test dataset images by the naive KNN model: {} seconds\".format(round(np.mean(knn_time), 2)))\n",
    "print(\"Average time for classifying 3000 test dataset images by the GRH model: {} seconds\".format(round(np.mean(grh_time),2)))\n",
    "print(\"Average accuracy for classifying 3000 test dataset images by the naive KNN model: {} percent\".format(round(np.mean(knn_accuracy)*100, 2)))\n",
    "print(\"Average accuracy for classifying 3000 test dataset images by the GRH model: {} percent\".format(round(np.mean(grh_accuracy)*100,2)))"
   ]
  },
  {
   "cell_type": "code",
   "execution_count": 80,
   "metadata": {},
   "outputs": [
    {
     "data": {
      "image/png": "[encoded data removed]",
      "text/plain": [
       "<Figure size 432x288 with 1 Axes>"
      ]
     },
     "metadata": {
      "needs_background": "light"
     },
     "output_type": "display_data"
    }
   ],
   "source": [
    "y = [i for i in range(1,11)]\n",
    "plt.plot(y, knn_accuracy, label=\"KNN\")\n",
    "plt.plot(y, grh_accuracy, label=\"GRH\")\n",
    "plt.legend()\n",
    "plt.title(\"Average precision of KNN and GRH as K scales\")\n",
    "plt.ylim([0.2, 0.6])\n",
    "plt.xlabel(\"K\")\n",
    "plt.ylabel(\"precision\")\n",
    "plt.show()\n"
   ]
  },
  {
   "cell_type": "code",
   "execution_count": 81,
   "metadata": {},
   "outputs": [
    {
     "data": {
      "image/png": "[encoded data removed]",
      "text/plain": [
       "<Figure size 432x288 with 1 Axes>"
      ]
     },
     "metadata": {
      "needs_background": "light"
     },
     "output_type": "display_data"
    }
   ],
   "source": [
    "y = [i for i in range(1,11)]\n",
    "plt.plot(y, knn_time, label=\"KNN\")\n",
    "plt.plot(y, grh_time, label=\"GRH\")\n",
    "plt.legend()\n",
    "plt.title(\"Average time of KNN and GRH as K scales\")\n",
    "plt.ylim([0, 60])\n",
    "plt.xlabel(\"K\")\n",
    "plt.ylabel(\"seconds\")\n",
    "plt.show()"
   ]
  },
  {
   "cell_type": "code",
   "execution_count": null,
   "metadata": {},
   "outputs": [],
   "source": []
  }
 ],
 "metadata": {
  "interpreter": {
   "hash": "53ebc667ae1806cce9d11aad52d94679aa0028981e35607ec8d721f2ea2d11b8"
  },
  "kernelspec": {
   "display_name": "Python 3.8.12 64-bit ('base': conda)",
   "language": "python",
   "name": "python3"
  },
  "language_info": {
   "codemirror_mode": {
    "name": "ipython",
    "version": 3
   },
   "file_extension": ".py",
   "mimetype": "text/x-python",
   "name": "python",
   "nbconvert_exporter": "python",
   "pygments_lexer": "ipython3",
   "version": "3.8.12"
  },
  "orig_nbformat": 4
 },
 "nbformat": 4,
 "nbformat_minor": 2
}
